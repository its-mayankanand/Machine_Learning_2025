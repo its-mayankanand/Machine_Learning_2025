{
  "nbformat": 4,
  "nbformat_minor": 0,
  "metadata": {
    "colab": {
      "provenance": [],
      "authorship_tag": "ABX9TyPpf3jGYougFkT8FoHXbjxF",
      "include_colab_link": true
    },
    "kernelspec": {
      "name": "python3",
      "display_name": "Python 3"
    },
    "language_info": {
      "name": "python"
    }
  },
  "cells": [
    {
      "cell_type": "markdown",
      "metadata": {
        "id": "view-in-github",
        "colab_type": "text"
      },
      "source": [
        "<a href=\"https://colab.research.google.com/github/its-mayankanand/Machine_Learning_2025/blob/main/2.4.ipynb\" target=\"_parent\"><img src=\"https://colab.research.google.com/assets/colab-badge.svg\" alt=\"Open In Colab\"/></a>"
      ]
    },
    {
      "cell_type": "markdown",
      "source": [
        "# Functions"
      ],
      "metadata": {
        "id": "cmQ1i9lyV2Hu"
      }
    },
    {
      "cell_type": "code",
      "source": [
        "# factorial of number\n",
        "number = int(input(\"enter number to find its factorial\"))\n",
        "fact = 1\n",
        "if number == 0:\n",
        "  print('The Factorial of 0 is 1')\n",
        "else:\n",
        "  for i in range(1, number + 1):   # range(1,6)\n",
        "    fact = fact * i\n",
        "  print(fact)\n",
        "\n"
      ],
      "metadata": {
        "colab": {
          "base_uri": "https://localhost:8080/"
        },
        "id": "lBQjsSEDV6Ov",
        "outputId": "69cba3c1-d10f-43d7-d251-1c6667198a2a"
      },
      "execution_count": null,
      "outputs": [
        {
          "output_type": "stream",
          "name": "stdout",
          "text": [
            "enter number to find its factorial3\n",
            "6\n"
          ]
        }
      ]
    },
    {
      "cell_type": "code",
      "source": [
        "#factorial function\n",
        "def factorial_value(num):\n",
        "  fact = 1\n",
        "\n",
        "  if num == 0:\n",
        "    return fact\n",
        "\n",
        "  else:\n",
        "    for i in range(1,num+1):\n",
        "      fact = fact * i\n",
        "\n",
        "    return fact\n",
        "\n",
        "\n"
      ],
      "metadata": {
        "id": "Y7cCbz8VXdSJ"
      },
      "execution_count": null,
      "outputs": []
    },
    {
      "cell_type": "code",
      "source": [
        "print(factorial_value(5))"
      ],
      "metadata": {
        "colab": {
          "base_uri": "https://localhost:8080/"
        },
        "id": "EE89wwCSY_gj",
        "outputId": "e1e18eb4-3032-4fc4-f333-a32a0dfb9519"
      },
      "execution_count": null,
      "outputs": [
        {
          "output_type": "stream",
          "name": "stdout",
          "text": [
            "120\n"
          ]
        }
      ]
    },
    {
      "cell_type": "code",
      "source": [
        "print(factorial_value(10))"
      ],
      "metadata": {
        "colab": {
          "base_uri": "https://localhost:8080/"
        },
        "id": "tWkv9DjHZCmi",
        "outputId": "1aa78d43-05e0-4d40-a9b9-07e4a9bee840"
      },
      "execution_count": null,
      "outputs": [
        {
          "output_type": "stream",
          "name": "stdout",
          "text": [
            "3628800\n"
          ]
        }
      ]
    },
    {
      "cell_type": "markdown",
      "source": [],
      "metadata": {
        "id": "g2RawmmH8l0I"
      }
    }
  ]
}