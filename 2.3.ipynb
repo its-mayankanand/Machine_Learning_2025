{
  "nbformat": 4,
  "nbformat_minor": 0,
  "metadata": {
    "colab": {
      "provenance": [],
      "authorship_tag": "ABX9TyPIG6VcWOWC0XVPwzOkl3KH",
      "include_colab_link": true
    },
    "kernelspec": {
      "name": "python3",
      "display_name": "Python 3"
    },
    "language_info": {
      "name": "python"
    }
  },
  "cells": [
    {
      "cell_type": "markdown",
      "metadata": {
        "id": "view-in-github",
        "colab_type": "text"
      },
      "source": [
        "<a href=\"https://colab.research.google.com/github/its-mayankanand/Machine_Learning_2025/blob/main/2.3.ipynb\" target=\"_parent\"><img src=\"https://colab.research.google.com/assets/colab-badge.svg\" alt=\"Open In Colab\"/></a>"
      ]
    },
    {
      "cell_type": "markdown",
      "source": [
        "# Operators in Python"
      ],
      "metadata": {
        "id": "qRlw8eTTRUFZ"
      }
    },
    {
      "cell_type": "markdown",
      "source": [
        "1. Arithmetic Operator\n",
        "2. Assignment Operator\n",
        "3. Comparison Operator\n",
        "4. Logical Operator\n",
        "5. Identity Operator\n",
        "6. Membership Operator\n"
      ],
      "metadata": {
        "id": "bsUogN2cRhw7"
      }
    },
    {
      "cell_type": "code",
      "source": [
        "# 1 . Arithmetic Operator\n",
        "num_1 = 20\n",
        "num_2 = 10\n",
        "\n",
        "#additon\n",
        "sum = num_1 + num_2\n",
        "print(sum)\n",
        "\n",
        "#subtraction\n",
        "sub = num_1 - num_2\n",
        "print(sub)\n",
        "\n",
        "#multiplication\n",
        "mul = num_1 * num_2\n",
        "print(mul)\n",
        "\n",
        "#division\n",
        "quo = num_1 / num_2\n",
        "print(quo)\n",
        "\n",
        "#exponent\n",
        "exp = num_1 ** num_2  #20 ^ 10\n",
        "print(exp)\n",
        "\n",
        "# modulus\n",
        "mod = num_1 % num_2\n",
        "print(mod)\n",
        "\n",
        "\n",
        "\n"
      ],
      "metadata": {
        "colab": {
          "base_uri": "https://localhost:8080/"
        },
        "id": "_8qTVUsxRxj2",
        "outputId": "9371ccab-1e7b-4b84-dc7a-99327fa0b3ba"
      },
      "execution_count": null,
      "outputs": [
        {
          "output_type": "stream",
          "name": "stdout",
          "text": [
            "30\n",
            "10\n",
            "200\n",
            "2.0\n",
            "10240000000000\n",
            "0\n"
          ]
        }
      ]
    },
    {
      "cell_type": "code",
      "source": [
        "# 2 . Assignment Operators\n",
        "a = 5\n",
        "print(a)\n"
      ],
      "metadata": {
        "colab": {
          "base_uri": "https://localhost:8080/"
        },
        "id": "nbYOsgUtSBCQ",
        "outputId": "d0677e75-bde9-4f37-cbb8-71558f80b2b4"
      },
      "execution_count": null,
      "outputs": [
        {
          "output_type": "stream",
          "name": "stdout",
          "text": [
            "5\n"
          ]
        }
      ]
    },
    {
      "cell_type": "code",
      "source": [
        "a = 5\n",
        "a += 5     # a = a + 5\n",
        "print(a)"
      ],
      "metadata": {
        "colab": {
          "base_uri": "https://localhost:8080/"
        },
        "id": "ElhLLa0pTeqh",
        "outputId": "2f346af9-2170-4f63-b543-46f945d35421"
      },
      "execution_count": null,
      "outputs": [
        {
          "output_type": "stream",
          "name": "stdout",
          "text": [
            "10\n"
          ]
        }
      ]
    },
    {
      "cell_type": "code",
      "source": [
        "b = 5\n",
        "b -= 2\n",
        "print(b)"
      ],
      "metadata": {
        "colab": {
          "base_uri": "https://localhost:8080/"
        },
        "id": "H0WzbG64T8q8",
        "outputId": "4dbe62d9-b9c6-47ec-98b3-70067b27e072"
      },
      "execution_count": null,
      "outputs": [
        {
          "output_type": "stream",
          "name": "stdout",
          "text": [
            "3\n"
          ]
        }
      ]
    },
    {
      "cell_type": "code",
      "source": [
        "# 3 . Comparison Opearator\n",
        "a = 5\n",
        "b = 10\n",
        "print(a<b)\n",
        "print(a == b)\n",
        "print(a>5)\n",
        "print(a != b)\n",
        "\n"
      ],
      "metadata": {
        "colab": {
          "base_uri": "https://localhost:8080/"
        },
        "id": "gey-GkN1UA76",
        "outputId": "1ff5e98f-0110-420d-e283-ef151f37f9a0"
      },
      "execution_count": null,
      "outputs": [
        {
          "output_type": "stream",
          "name": "stdout",
          "text": [
            "True\n",
            "False\n",
            "False\n",
            "True\n"
          ]
        }
      ]
    },
    {
      "cell_type": "code",
      "source": [
        "# 4 . Logical Operator (and,or,not)\n",
        "a = 10\n",
        "print(a > 20 and a > 5)\n",
        "print(a > 20 or a > 5)\n",
        "print(not(a > 8 and a > 5))\n",
        "\n",
        "\n"
      ],
      "metadata": {
        "colab": {
          "base_uri": "https://localhost:8080/"
        },
        "id": "zjlnXKSbUWk9",
        "outputId": "ce83eb22-0416-4c6e-f9ed-f0853f0c8612"
      },
      "execution_count": null,
      "outputs": [
        {
          "output_type": "stream",
          "name": "stdout",
          "text": [
            "False\n",
            "True\n",
            "False\n"
          ]
        }
      ]
    },
    {
      "cell_type": "code",
      "source": [
        "# 5 . Identity Operator ( is , is not)\n",
        "x = 5\n",
        "y = 5\n",
        "print(x is y)  # True\n",
        "print(x is not y)  # False\n",
        "\n",
        "x = 5\n",
        "y = 6\n",
        "print(x is y)\n",
        "print(x is not y)\n",
        "\n"
      ],
      "metadata": {
        "colab": {
          "base_uri": "https://localhost:8080/"
        },
        "id": "07QuhdO9VAQ2",
        "outputId": "cee2a54f-b15e-4a3f-9347-bd668fe18657"
      },
      "execution_count": null,
      "outputs": [
        {
          "output_type": "stream",
          "name": "stdout",
          "text": [
            "True\n",
            "False\n",
            "False\n",
            "True\n"
          ]
        }
      ]
    },
    {
      "cell_type": "code",
      "source": [
        "# 6 . Membership Operator ( in , not in)\n",
        "a = 5\n",
        "b = 10\n",
        "\n",
        "c = [1,2,3,4,5]\n",
        "print(a in c)\n",
        "print(b in c)\n",
        "print(a not in c)\n",
        "print(b not in c)\n",
        "\n"
      ],
      "metadata": {
        "colab": {
          "base_uri": "https://localhost:8080/"
        },
        "id": "ck5hPtTFV2hQ",
        "outputId": "d6af43d6-53fa-490c-f0f5-cb0cb60d51ac"
      },
      "execution_count": null,
      "outputs": [
        {
          "output_type": "stream",
          "name": "stdout",
          "text": [
            "True\n",
            "False\n",
            "False\n",
            "True\n"
          ]
        }
      ]
    },
    {
      "cell_type": "markdown",
      "source": [
        "# if else statement"
      ],
      "metadata": {
        "id": "QfQ-ifUwgFwT"
      }
    },
    {
      "cell_type": "code",
      "source": [
        "#simple if else statement\n",
        "a = 30\n",
        "b = 50\n",
        "if(a>b):\n",
        "  print('a is the greatest number')\n",
        "else:\n",
        "  print('b is the greatest number')"
      ],
      "metadata": {
        "colab": {
          "base_uri": "https://localhost:8080/"
        },
        "id": "uNx3hrrpgImE",
        "outputId": "f480dfc0-0047-4767-bd99-d86b208c0a9c"
      },
      "execution_count": null,
      "outputs": [
        {
          "output_type": "stream",
          "name": "stdout",
          "text": [
            "b is the greatest number\n"
          ]
        }
      ]
    },
    {
      "cell_type": "code",
      "source": [
        "a = int(input(\"Enter the first no\"))   # this is using user input in this we are taking user input\n",
        "b = int(input(\"Enter the second no\"))\n",
        "if(a>b):\n",
        "  print('a is the greatest no')\n",
        "else:\n",
        "  print('b is the greatest no')"
      ],
      "metadata": {
        "colab": {
          "base_uri": "https://localhost:8080/"
        },
        "id": "vOwHSkbggk0A",
        "outputId": "bc073085-eeb9-4fac-bf4c-4b725712bb6d"
      },
      "execution_count": null,
      "outputs": [
        {
          "output_type": "stream",
          "name": "stdout",
          "text": [
            "Enter the first no23\n",
            "Enter the second no21\n",
            "a is the greatest no\n"
          ]
        }
      ]
    },
    {
      "cell_type": "code",
      "source": [
        "# if elif else statement\n",
        "a = 15\n",
        "b = 25\n",
        "c = 30\n",
        "if(b<a>c):\n",
        "  print('a is the greatest no')\n",
        "elif(a<b>c):\n",
        "  print('b is the greatest no')\n",
        "else:\n",
        "  print('c is the greatest no')\n"
      ],
      "metadata": {
        "colab": {
          "base_uri": "https://localhost:8080/"
        },
        "id": "3Wi3m6Lbg8In",
        "outputId": "1f9d42f5-7909-4986-856b-00cc0f432bf1"
      },
      "execution_count": null,
      "outputs": [
        {
          "output_type": "stream",
          "name": "stdout",
          "text": [
            "c is the greatest no\n"
          ]
        }
      ]
    },
    {
      "cell_type": "code",
      "source": [
        "# nested if statement\n",
        "a = 20\n",
        "b = 40\n",
        "c = 60\n",
        "if(a>b):\n",
        "  if(a>c):\n",
        "    print('a is the greatest')\n",
        "  else:\n",
        "    print('c is the greatest')\n",
        "else:\n",
        "  if(b>c):\n",
        "    print('b is the greatest')\n",
        "  else:\n",
        "    print('c is the greatest')"
      ],
      "metadata": {
        "colab": {
          "base_uri": "https://localhost:8080/"
        },
        "id": "vlcoobR6iLlV",
        "outputId": "2f9d63f1-1a3f-4b9f-b794-cc4091532b26"
      },
      "execution_count": null,
      "outputs": [
        {
          "output_type": "stream",
          "name": "stdout",
          "text": [
            "c is the greatest\n"
          ]
        }
      ]
    },
    {
      "cell_type": "markdown",
      "source": [
        "# Loops in Python"
      ],
      "metadata": {
        "id": "2rgzk65qImFk"
      }
    },
    {
      "cell_type": "code",
      "source": [
        "#if have to print 5 times\n",
        "# we will use loop\n",
        "for i in range(5):\n",
        "  laptop_price = int(input(\"Enter the price of laptop:\"))"
      ],
      "metadata": {
        "colab": {
          "base_uri": "https://localhost:8080/"
        },
        "id": "nGKBjwgRJGBe",
        "outputId": "7a0f547c-77a5-4cf2-9588-4cb957975cc1"
      },
      "execution_count": 2,
      "outputs": [
        {
          "name": "stdout",
          "output_type": "stream",
          "text": [
            "Enter the price of laptop:234\n",
            "Enter the price of laptop:123\n",
            "Enter the price of laptop:123\n",
            "Enter the price of laptop:1234\n",
            "Enter the price of laptop:12345\n"
          ]
        }
      ]
    },
    {
      "cell_type": "code",
      "source": [
        "#print these elements individually\n",
        "numbers = [50,100,150,200]\n",
        "print(numbers[0])\n",
        "print(numbers[1])\n",
        "print(numbers[2])\n",
        "print(numbers[3])\n"
      ],
      "metadata": {
        "colab": {
          "base_uri": "https://localhost:8080/"
        },
        "id": "WI4rJJmWJClC",
        "outputId": "76aac6d7-b44d-441c-8bef-e2f146395798"
      },
      "execution_count": 3,
      "outputs": [
        {
          "output_type": "stream",
          "name": "stdout",
          "text": [
            "50\n",
            "100\n",
            "150\n",
            "200\n"
          ]
        }
      ]
    },
    {
      "cell_type": "code",
      "source": [
        "# to print individually shortcut will be using loops\n",
        "numbers = [50,100,150,200]\n",
        "for i in numbers:\n",
        "  print(i)\n"
      ],
      "metadata": {
        "colab": {
          "base_uri": "https://localhost:8080/"
        },
        "id": "yqx7-LntKpHp",
        "outputId": "6d02eb60-b0b4-4beb-8ebf-ccc356ca2ec2"
      },
      "execution_count": 4,
      "outputs": [
        {
          "output_type": "stream",
          "name": "stdout",
          "text": [
            "50\n",
            "100\n",
            "150\n",
            "200\n"
          ]
        }
      ]
    },
    {
      "cell_type": "code",
      "source": [
        "# while loop\n",
        "# uses when u are not sure about the number of execution times\n",
        "i = 1\n",
        "while i<=10:\n",
        "  print(i)\n",
        "  i += 1\n"
      ],
      "metadata": {
        "colab": {
          "base_uri": "https://localhost:8080/"
        },
        "id": "YGhbqZusK7Or",
        "outputId": "1951f2f6-27e5-4f62-fb9e-548835517658"
      },
      "execution_count": 7,
      "outputs": [
        {
          "output_type": "stream",
          "name": "stdout",
          "text": [
            "1\n",
            "2\n",
            "3\n",
            "4\n",
            "5\n",
            "6\n",
            "7\n",
            "8\n",
            "9\n",
            "10\n"
          ]
        }
      ]
    },
    {
      "cell_type": "code",
      "source": [
        "# what happens when condition is not true\n",
        "i = 5\n",
        "while i<3:       #here nothing happens\n",
        "  print(i)\n",
        "  i += 1"
      ],
      "metadata": {
        "id": "YmWML9mkLfkD"
      },
      "execution_count": 8,
      "outputs": []
    },
    {
      "cell_type": "code",
      "source": [],
      "metadata": {
        "id": "AdXQmwA3MDrT"
      },
      "execution_count": null,
      "outputs": []
    }
  ]
}